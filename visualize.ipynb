{
 "cells": [
  {
   "cell_type": "code",
   "execution_count": null,
   "metadata": {},
   "outputs": [],
   "source": [
    "from IPython.display import display, HTML\n",
    "display(HTML(\"<style>.container { width:100% !important; }</style>\"))"
   ]
  },
  {
   "cell_type": "code",
   "execution_count": null,
   "metadata": {},
   "outputs": [],
   "source": [
    "import os\n",
    "import json\n",
    "import pickle\n",
    "from typing import Optional\n",
    "\n",
    "import pandas as pd\n",
    "import numpy as np\n",
    "import matplotlib\n",
    "import matplotlib.pyplot as plt\n",
    "import seaborn as sns\n",
    "import lightgbm as lgb\n",
    "import shap\n",
    "from sklearn.model_selection import GroupKFold, StratifiedGroupKFold, PredefinedSplit\n",
    "from sklearn.metrics import matthews_corrcoef, roc_auc_score\n",
    "from sklearn.preprocessing import LabelEncoder  \n",
    "from dataclasses import dataclass\n",
    "from tqdm import tqdm\n",
    "from sklearn.metrics import matthews_corrcoef, confusion_matrix\n",
    "\n",
    "matplotlib.rcParams['animation.embed_limit'] = 2**128\n",
    "import matplotlib.animation as animation\n",
    "from matplotlib import rc\n",
    "rc('animation', html='jshtml')\n",
    "from utils.general import LabelEncoders, LGBMSerializer, reduce_dtype\n",
    "from utils.nfl import merge_tracking, distance, cast_player_id\n",
    "from utils.metrics import binarize_pred, summarize_per_play_mcc\n",
    "from utils.visualize import EDAConfig, plot_animation\n",
    "from utils.visualize_helmet import save_separate_videos, save_concat_video"
   ]
  },
  {
   "cell_type": "code",
   "execution_count": null,
   "metadata": {},
   "outputs": [],
   "source": [
    "TRAINED_DATA_PATH = \"./\"\n",
    "tracking = reduce_dtype(cast_player_id(pd.read_csv(\"../input/nfl-player-contact-detection/train_player_tracking.csv\")))\n",
    "labels = cast_player_id(pd.read_csv(\"../input/nfl-player-contact-detection/train_labels.csv\"))\n",
    "serializer = LGBMSerializer.from_file(os.path.join(TRAINED_DATA_PATH, \"lgb\"))\n",
    "oof = np.load(os.path.join(TRAINED_DATA_PATH, \"oof.npy\"))\n",
    "x_train = np.load(os.path.join(TRAINED_DATA_PATH, \"X_train.npy\"))\n",
    "\n",
    "labels = merge_tracking(\n",
    "    labels,\n",
    "    tracking,\n",
    "    [\"x_position\", \"y_position\"]\n",
    ")\n",
    "labels[\"distance\"] = distance(labels[\"x_position_1\"], labels[\"y_position_1\"], labels[\"x_position_2\"], labels[\"y_position_2\"])\n",
    "is_hard_sample = np.logical_or(labels[\"distance\"]<=3, labels[\"nfl_player_id_2\"] == -1)\n",
    "\n",
    "assert is_hard_sample.sum() == len(oof)\n",
    "\n",
    "is_ground = (labels[is_hard_sample][\"nfl_player_id_2\"] == -1).values\n",
    "y_pred = binarize_pred(oof, serializer.threshold_1, serializer.threshold_2, is_ground)\n",
    "\n",
    "labels.loc[is_hard_sample, \"oof\"] = oof\n",
    "labels.loc[is_hard_sample, \"y_pred\"] = y_pred\n",
    "labels['error'] = (labels['contact'] - labels['oof'].fillna(0.0)).abs()\n",
    "\n",
    "per_play_mcc_df = summarize_per_play_mcc(labels)\n",
    "per_play_mcc_df[per_play_mcc_df[\"number_of_contacts\"]>0].sort_values(by=\"mcc\").head(20)\n",
    "\n",
    "helmet = pd.read_csv('../input/nfl-player-contact-detection/train_baseline_helmets.csv')"
   ]
  },
  {
   "cell_type": "code",
   "execution_count": null,
   "metadata": {},
   "outputs": [],
   "source": [
    "def get_id_by_index(labels, index):\n",
    "    row = labels.loc[index]\n",
    "    return row.game_play, row.nfl_player_id_1, row.nfl_player_id_2\n",
    "\n",
    "# GAME_PLAY = \"58529_001853\"  # Noneならランダムに選ぶ\n",
    "# PLAYER_ID_1 = None  # intで指定。指定しない場合、GAME_PLAYからランダムに選ぶ。\n",
    "# PLAYER_ID_2 = None  # intで指定(G:-1)。指定しない場合、GAME_PLAYからランダムに選ぶ。\n",
    "CONTACT_TO_G = False  # player_id_2を指定しないとき、対Gを選択するかどうか\n",
    "\n",
    "# index直指定\n",
    "# GAME_PLAY, PLAYER_ID_1, PLAYER_ID_2 = get_id_by_index(labels, 1089722)\n",
    "# print(GAME_PLAY, PLAYER_ID_1, PLAYER_ID_2)\n",
    "\n",
    "# errorの平均で悪い順にみる\n",
    "samples = labels.groupby(['game_play', 'nfl_player_id_1', 'nfl_player_id_2'])['error'].mean().reset_index().sort_values('error', ascending=False)\n",
    "GAME_PLAY, PLAYER_ID_1, PLAYER_ID_2, error_mean = samples.iloc[0].values\n",
    "print(GAME_PLAY, PLAYER_ID_1, PLAYER_ID_2, error_mean)"
   ]
  },
  {
   "cell_type": "code",
   "execution_count": null,
   "metadata": {},
   "outputs": [],
   "source": []
  },
  {
   "cell_type": "code",
   "execution_count": null,
   "metadata": {},
   "outputs": [],
   "source": []
  },
  {
   "cell_type": "code",
   "execution_count": null,
   "metadata": {},
   "outputs": [],
   "source": [
    "if GAME_PLAY is None:\n",
    "    sample = labels[(labels[\"contact\"]==1)&(labels[\"nfl_player_id_2\"]==-1)].sample(1).iloc[0]\n",
    "    GAME_PLAY = sample.game_play\n",
    "\n",
    "config = EDAConfig(serializer, tracking, labels, \n",
    "                   GAME_PLAY,\n",
    "                   x_train,\n",
    "                   is_hard_sample,\n",
    "                   player_id_1=PLAYER_ID_1,\n",
    "                   player_id_2=PLAYER_ID_2,\n",
    "                   to_g=CONTACT_TO_G)\n",
    "\n",
    "# plot_animation(config)"
   ]
  },
  {
   "cell_type": "code",
   "execution_count": null,
   "metadata": {},
   "outputs": [],
   "source": [
    "# concat_path = save_concat_video(labels, helmet, GAME_PLAY, PLAYER_ID_1, PLAYER_ID_2)\n",
    "end_path, side_path = save_separate_videos(labels, helmet, GAME_PLAY, PLAYER_ID_1, PLAYER_ID_2)"
   ]
  },
  {
   "cell_type": "code",
   "execution_count": null,
   "metadata": {},
   "outputs": [],
   "source": [
    "from IPython.display import Video\n",
    "\n",
    "def play_video(video_path: str):\n",
    "    frac = 1.25 # scaling factor for display\n",
    "    display(\n",
    "        Video(data=video_path, embed=True, height=int(720*frac), width=int(1280*frac))\n",
    "    )\n",
    "    \n",
    "play_video(side_path)"
   ]
  }
 ],
 "metadata": {
  "kernelspec": {
   "display_name": "Python 3 (ipykernel)",
   "language": "python",
   "name": "python3"
  },
  "language_info": {
   "codemirror_mode": {
    "name": "ipython",
    "version": 3
   },
   "file_extension": ".py",
   "mimetype": "text/x-python",
   "name": "python",
   "nbconvert_exporter": "python",
   "pygments_lexer": "ipython3",
   "version": "3.7.12"
  },
  "vscode": {
   "interpreter": {
    "hash": "d4d1e4263499bec80672ea0156c357c1ee493ec2b1c70f0acce89fc37c4a6abe"
   }
  }
 },
 "nbformat": 4,
 "nbformat_minor": 2
}
