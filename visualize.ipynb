{
 "cells": [
  {
   "cell_type": "code",
   "execution_count": 1,
   "metadata": {},
   "outputs": [
    {
     "data": {
      "text/html": [
       "<style type='text/css'>\n",
       ".datatable table.frame { margin-bottom: 0; }\n",
       ".datatable table.frame thead { border-bottom: none; }\n",
       ".datatable table.frame tr.coltypes td {  color: #FFFFFF;  line-height: 6px;  padding: 0 0.5em;}\n",
       ".datatable .bool    { background: #DDDD99; }\n",
       ".datatable .object  { background: #565656; }\n",
       ".datatable .int     { background: #5D9E5D; }\n",
       ".datatable .float   { background: #4040CC; }\n",
       ".datatable .str     { background: #CC4040; }\n",
       ".datatable .time    { background: #40CC40; }\n",
       ".datatable .row_index {  background: var(--jp-border-color3);  border-right: 1px solid var(--jp-border-color0);  color: var(--jp-ui-font-color3);  font-size: 9px;}\n",
       ".datatable .frame tbody td { text-align: left; }\n",
       ".datatable .frame tr.coltypes .row_index {  background: var(--jp-border-color0);}\n",
       ".datatable th:nth-child(2) { padding-left: 12px; }\n",
       ".datatable .hellipsis {  color: var(--jp-cell-editor-border-color);}\n",
       ".datatable .vellipsis {  background: var(--jp-layout-color0);  color: var(--jp-cell-editor-border-color);}\n",
       ".datatable .na {  color: var(--jp-cell-editor-border-color);  font-size: 80%;}\n",
       ".datatable .sp {  opacity: 0.25;}\n",
       ".datatable .footer { font-size: 9px; }\n",
       ".datatable .frame_dimensions {  background: var(--jp-border-color3);  border-top: 1px solid var(--jp-border-color0);  color: var(--jp-ui-font-color3);  display: inline-block;  opacity: 0.6;  padding: 1px 10px 1px 5px;}\n",
       "</style>\n"
      ],
      "text/plain": [
       "<IPython.core.display.HTML object>"
      ]
     },
     "metadata": {},
     "output_type": "display_data"
    }
   ],
   "source": [
    "import os\n",
    "import json\n",
    "import pickle\n",
    "from typing import Optional\n",
    "\n",
    "import pandas as pd\n",
    "import numpy as np\n",
    "import matplotlib\n",
    "import matplotlib.pyplot as plt\n",
    "import seaborn as sns\n",
    "import lightgbm as lgb\n",
    "import shap\n",
    "from sklearn.model_selection import GroupKFold, StratifiedGroupKFold, PredefinedSplit\n",
    "from sklearn.metrics import matthews_corrcoef, roc_auc_score\n",
    "from sklearn.preprocessing import LabelEncoder  \n",
    "from dataclasses import dataclass\n",
    "from tqdm import tqdm\n",
    "from sklearn.metrics import matthews_corrcoef, confusion_matrix\n",
    "\n",
    "matplotlib.rcParams['animation.embed_limit'] = 2**128\n",
    "import matplotlib.animation as animation\n",
    "from matplotlib import rc\n",
    "rc('animation', html='jshtml')\n",
    "from utils.general import LabelEncoders, LGBMSerializer, reduce_dtype\n",
    "from utils.nfl import merge_tracking, distance, cast_player_id\n",
    "from utils.metrics import binarize_pred, summarize_per_play_mcc\n",
    "from utils.visualize import EDAConfig, plot_animation\n",
    "from utils.visualize_helmet import save_separate_videos, save_concat_video"
   ]
  },
  {
   "cell_type": "code",
   "execution_count": 2,
   "metadata": {},
   "outputs": [
    {
     "data": {
      "application/vnd.jupyter.widget-view+json": {
       "model_id": "5b5daf83da1b4f19a6dea3f1a7529337",
       "version_major": 2,
       "version_minor": 0
      },
      "text/plain": [
       "  0%|          | 0/240 [00:00<?, ?it/s]"
      ]
     },
     "metadata": {},
     "output_type": "display_data"
    }
   ],
   "source": [
    "TRAINED_DATA_PATH = \"./\"\n",
    "tracking = reduce_dtype(cast_player_id(pd.read_csv(\"../input/nfl-player-contact-detection/train_player_tracking.csv\")))\n",
    "labels = cast_player_id(pd.read_csv(\"../input/nfl-player-contact-detection/train_labels.csv\"))\n",
    "serializer = LGBMSerializer.from_file(os.path.join(TRAINED_DATA_PATH, \"lgb\"))\n",
    "oof = np.load(os.path.join(TRAINED_DATA_PATH, \"oof.npy\"))\n",
    "x_train = np.load(os.path.join(TRAINED_DATA_PATH, \"X_train.npy\"))\n",
    "\n",
    "labels = merge_tracking(\n",
    "    labels,\n",
    "    tracking,\n",
    "    [\"x_position\", \"y_position\"]\n",
    ")\n",
    "labels[\"distance\"] = distance(labels[\"x_position_1\"], labels[\"y_position_1\"], labels[\"x_position_2\"], labels[\"y_position_2\"])\n",
    "is_hard_sample = np.logical_or(labels[\"distance\"]<=3, labels[\"nfl_player_id_2\"] == -1)\n",
    "\n",
    "assert is_hard_sample.sum() == len(oof)\n",
    "\n",
    "is_ground = (labels[is_hard_sample][\"nfl_player_id_2\"] == -1).values\n",
    "y_pred = binarize_pred(oof, serializer.threshold_1, serializer.threshold_2, is_ground)\n",
    "\n",
    "labels.loc[is_hard_sample, \"oof\"] = oof\n",
    "labels.loc[is_hard_sample, \"y_pred\"] = y_pred\n",
    "labels['error'] = (labels['contact'] - labels['oof'].fillna(0.0)).abs()\n",
    "\n",
    "per_play_mcc_df = summarize_per_play_mcc(labels)\n",
    "per_play_mcc_df[per_play_mcc_df[\"number_of_contacts\"]>0].sort_values(by=\"mcc\").head(20)\n",
    "\n",
    "helmet = pd.read_csv('../input/nfl-player-contact-detection/train_baseline_helmets.csv')"
   ]
  },
  {
   "cell_type": "code",
   "execution_count": 3,
   "metadata": {},
   "outputs": [
    {
     "name": "stdout",
     "output_type": "stream",
     "text": [
      "58187_002329 46241 -1 0.7708555484979199\n"
     ]
    }
   ],
   "source": [
    "def get_id_by_index(labels, index):\n",
    "    row = labels.loc[index]\n",
    "    return row.game_play, row.nfl_player_id_1, row.nfl_player_id_2\n",
    "\n",
    "# GAME_PLAY = \"58529_001853\"  # Noneならランダムに選ぶ\n",
    "# PLAYER_ID_1 = None  # intで指定。指定しない場合、GAME_PLAYからランダムに選ぶ。\n",
    "# PLAYER_ID_2 = None  # intで指定(G:-1)。指定しない場合、GAME_PLAYからランダムに選ぶ。\n",
    "CONTACT_TO_G = False  # player_id_2を指定しないとき、対Gを選択するかどうか\n",
    "\n",
    "# index直指定\n",
    "# GAME_PLAY, PLAYER_ID_1, PLAYER_ID_2 = get_id_by_index(labels, 1089722)\n",
    "# print(GAME_PLAY, PLAYER_ID_1, PLAYER_ID_2)\n",
    "\n",
    "# errorの平均で悪い順にみる\n",
    "samples = labels.groupby(['game_play', 'nfl_player_id_1', 'nfl_player_id_2'])['error'].mean().reset_index().sort_values('error', ascending=False)\n",
    "GAME_PLAY, PLAYER_ID_1, PLAYER_ID_2, error_mean = samples.iloc[0].values\n",
    "print(GAME_PLAY, PLAYER_ID_1, PLAYER_ID_2, error_mean)"
   ]
  },
  {
   "cell_type": "code",
   "execution_count": 4,
   "metadata": {},
   "outputs": [
    {
     "name": "stdout",
     "output_type": "stream",
     "text": [
      "target: 58187_002329\n",
      "target players: 46241 vs -1\n",
      "total 0 contacts ([])\n",
      "mcc (player 46241 vs -1): 0.0000 (tp:0,fp:57,tn:7,fn:0)\n",
      "mcc (whole game-play): 0.6766 (tp:195,fp:80,tn:15815,fn:102)\n"
     ]
    }
   ],
   "source": [
    "if GAME_PLAY is None:\n",
    "    sample = labels[(labels[\"contact\"]==1)&(labels[\"nfl_player_id_2\"]==-1)].sample(1).iloc[0]\n",
    "    GAME_PLAY = sample.game_play\n",
    "\n",
    "config = EDAConfig(serializer, tracking, labels, \n",
    "                   GAME_PLAY,\n",
    "                   x_train,\n",
    "                   is_hard_sample,\n",
    "                   player_id_1=PLAYER_ID_1,\n",
    "                   player_id_2=PLAYER_ID_2,\n",
    "                   to_g=CONTACT_TO_G)\n",
    "\n",
    "# plot_animation(config)"
   ]
  },
  {
   "cell_type": "code",
   "execution_count": 5,
   "metadata": {},
   "outputs": [
    {
     "name": "stderr",
     "output_type": "stream",
     "text": [
      "\n",
      "A value is trying to be set on a copy of a slice from a DataFrame.\n",
      "Try using .loc[row_indexer,col_indexer] = value instead\n",
      "\n",
      "See the caveats in the documentation: https://pandas.pydata.org/pandas-docs/stable/user_guide/indexing.html#returning-a-view-versus-a-copy\n",
      "OpenCV: FFMPEG: tag 0x5634504d/'MP4V' is not supported with codec id 12 and format 'mp4 / MP4 (MPEG-4 Part 14)'\n",
      "OpenCV: FFMPEG: fallback to use tag 0x7634706d/'mp4v'\n",
      "OpenCV: FFMPEG: tag 0x5634504d/'MP4V' is not supported with codec id 12 and format 'mp4 / MP4 (MPEG-4 Part 14)'\n",
      "OpenCV: FFMPEG: fallback to use tag 0x7634706d/'mp4v'\n"
     ]
    }
   ],
   "source": [
    "# concat_path = save_concat_video(labels, helmet, GAME_PLAY, PLAYER_ID_1, PLAYER_ID_2)\n",
    "end_path, side_path = save_separate_videos(labels, helmet, GAME_PLAY, PLAYER_ID_1, PLAYER_ID_2)"
   ]
  },
  {
   "cell_type": "code",
   "execution_count": null,
   "metadata": {},
   "outputs": [],
   "source": [
    "from IPython.display import Video\n",
    "\n",
    "def play_video(video_path: str):\n",
    "    frac = 0.65 # scaling factor for display\n",
    "    display(\n",
    "        Video(data=video_path, embed=True, height=int(720*frac), width=int(1280*frac))\n",
    "    )\n",
    "    \n",
    "play_video(side_path)"
   ]
  },
  {
   "cell_type": "code",
   "execution_count": null,
   "metadata": {},
   "outputs": [],
   "source": []
  }
 ],
 "metadata": {
  "kernelspec": {
   "display_name": "Python 3 (ipykernel)",
   "language": "python",
   "name": "python3"
  },
  "language_info": {
   "codemirror_mode": {
    "name": "ipython",
    "version": 3
   },
   "file_extension": ".py",
   "mimetype": "text/x-python",
   "name": "python",
   "nbconvert_exporter": "python",
   "pygments_lexer": "ipython3",
   "version": "3.7.12"
  },
  "vscode": {
   "interpreter": {
    "hash": "d4d1e4263499bec80672ea0156c357c1ee493ec2b1c70f0acce89fc37c4a6abe"
   }
  }
 },
 "nbformat": 4,
 "nbformat_minor": 2
}
